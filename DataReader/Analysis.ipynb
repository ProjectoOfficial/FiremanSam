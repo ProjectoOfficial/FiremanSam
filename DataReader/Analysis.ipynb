{
 "cells": [
  {
   "cell_type": "code",
   "execution_count": 1,
   "metadata": {},
   "outputs": [
    {
     "data": {
      "text/html": [
       "<div>\n",
       "<style scoped>\n",
       "    .dataframe tbody tr th:only-of-type {\n",
       "        vertical-align: middle;\n",
       "    }\n",
       "\n",
       "    .dataframe tbody tr th {\n",
       "        vertical-align: top;\n",
       "    }\n",
       "\n",
       "    .dataframe thead th {\n",
       "        text-align: right;\n",
       "    }\n",
       "</style>\n",
       "<table border=\"1\" class=\"dataframe\">\n",
       "  <thead>\n",
       "    <tr style=\"text-align: right;\">\n",
       "      <th></th>\n",
       "      <th>umidità</th>\n",
       "      <th>temperatura</th>\n",
       "      <th>co2</th>\n",
       "      <th>tvoc</th>\n",
       "      <th>classe</th>\n",
       "    </tr>\n",
       "  </thead>\n",
       "  <tbody>\n",
       "    <tr>\n",
       "      <th>0</th>\n",
       "      <td>39</td>\n",
       "      <td>23.0</td>\n",
       "      <td>403</td>\n",
       "      <td>0</td>\n",
       "      <td>0</td>\n",
       "    </tr>\n",
       "    <tr>\n",
       "      <th>1</th>\n",
       "      <td>39</td>\n",
       "      <td>23.1</td>\n",
       "      <td>415</td>\n",
       "      <td>2</td>\n",
       "      <td>0</td>\n",
       "    </tr>\n",
       "    <tr>\n",
       "      <th>2</th>\n",
       "      <td>40</td>\n",
       "      <td>23.1</td>\n",
       "      <td>415</td>\n",
       "      <td>2</td>\n",
       "      <td>0</td>\n",
       "    </tr>\n",
       "    <tr>\n",
       "      <th>3</th>\n",
       "      <td>40</td>\n",
       "      <td>23.0</td>\n",
       "      <td>413</td>\n",
       "      <td>1</td>\n",
       "      <td>0</td>\n",
       "    </tr>\n",
       "    <tr>\n",
       "      <th>4</th>\n",
       "      <td>40</td>\n",
       "      <td>23.0</td>\n",
       "      <td>418</td>\n",
       "      <td>2</td>\n",
       "      <td>0</td>\n",
       "    </tr>\n",
       "    <tr>\n",
       "      <th>...</th>\n",
       "      <td>...</td>\n",
       "      <td>...</td>\n",
       "      <td>...</td>\n",
       "      <td>...</td>\n",
       "      <td>...</td>\n",
       "    </tr>\n",
       "    <tr>\n",
       "      <th>1078</th>\n",
       "      <td>24</td>\n",
       "      <td>41.3</td>\n",
       "      <td>5591</td>\n",
       "      <td>8407</td>\n",
       "      <td>1</td>\n",
       "    </tr>\n",
       "    <tr>\n",
       "      <th>1079</th>\n",
       "      <td>24</td>\n",
       "      <td>41.3</td>\n",
       "      <td>7852</td>\n",
       "      <td>13255</td>\n",
       "      <td>1</td>\n",
       "    </tr>\n",
       "    <tr>\n",
       "      <th>1080</th>\n",
       "      <td>24</td>\n",
       "      <td>41.3</td>\n",
       "      <td>8538</td>\n",
       "      <td>14695</td>\n",
       "      <td>1</td>\n",
       "    </tr>\n",
       "    <tr>\n",
       "      <th>1081</th>\n",
       "      <td>24</td>\n",
       "      <td>40.8</td>\n",
       "      <td>6211</td>\n",
       "      <td>9718</td>\n",
       "      <td>1</td>\n",
       "    </tr>\n",
       "    <tr>\n",
       "      <th>1082</th>\n",
       "      <td>24</td>\n",
       "      <td>40.8</td>\n",
       "      <td>9877</td>\n",
       "      <td>17546</td>\n",
       "      <td>1</td>\n",
       "    </tr>\n",
       "  </tbody>\n",
       "</table>\n",
       "<p>1083 rows × 5 columns</p>\n",
       "</div>"
      ],
      "text/plain": [
       "      umidità  temperatura   co2   tvoc  classe\n",
       "0          39         23.0   403      0       0\n",
       "1          39         23.1   415      2       0\n",
       "2          40         23.1   415      2       0\n",
       "3          40         23.0   413      1       0\n",
       "4          40         23.0   418      2       0\n",
       "...       ...          ...   ...    ...     ...\n",
       "1078       24         41.3  5591   8407       1\n",
       "1079       24         41.3  7852  13255       1\n",
       "1080       24         41.3  8538  14695       1\n",
       "1081       24         40.8  6211   9718       1\n",
       "1082       24         40.8  9877  17546       1\n",
       "\n",
       "[1083 rows x 5 columns]"
      ]
     },
     "execution_count": 1,
     "metadata": {},
     "output_type": "execute_result"
    }
   ],
   "source": [
    "import pandas as pd\n",
    "import matplotlib.pyplot as plt\n",
    "\n",
    "df = pd.read_csv(\"full_dataset.txt\", sep=\" \")\n",
    "\n",
    "df"
   ]
  },
  {
   "cell_type": "code",
   "execution_count": 2,
   "metadata": {},
   "outputs": [
    {
     "name": "stdout",
     "output_type": "stream",
     "text": [
      "Le istanze nel dataset sono 1083\n"
     ]
    }
   ],
   "source": [
    "# NUMERO DI ISTANZE NEL DATASET\n",
    "N, m = df.shape\n",
    "print(f\"Le istanze nel dataset sono {N}\")"
   ]
  },
  {
   "cell_type": "code",
   "execution_count": 3,
   "metadata": {},
   "outputs": [
    {
     "name": "stdout",
     "output_type": "stream",
     "text": [
      "umidità        0\n",
      "temperatura    0\n",
      "co2            0\n",
      "tvoc           0\n",
      "classe         0\n",
      "dtype: int64\n",
      "In totale, ci sono 0 valori NaN.\n"
     ]
    },
    {
     "data": {
      "text/html": [
       "<div>\n",
       "<style scoped>\n",
       "    .dataframe tbody tr th:only-of-type {\n",
       "        vertical-align: middle;\n",
       "    }\n",
       "\n",
       "    .dataframe tbody tr th {\n",
       "        vertical-align: top;\n",
       "    }\n",
       "\n",
       "    .dataframe thead th {\n",
       "        text-align: right;\n",
       "    }\n",
       "</style>\n",
       "<table border=\"1\" class=\"dataframe\">\n",
       "  <thead>\n",
       "    <tr style=\"text-align: right;\">\n",
       "      <th></th>\n",
       "      <th>umidità</th>\n",
       "      <th>temperatura</th>\n",
       "      <th>co2</th>\n",
       "      <th>tvoc</th>\n",
       "      <th>classe</th>\n",
       "    </tr>\n",
       "  </thead>\n",
       "  <tbody>\n",
       "  </tbody>\n",
       "</table>\n",
       "</div>"
      ],
      "text/plain": [
       "Empty DataFrame\n",
       "Columns: [umidità, temperatura, co2, tvoc, classe]\n",
       "Index: []"
      ]
     },
     "execution_count": 3,
     "metadata": {},
     "output_type": "execute_result"
    }
   ],
   "source": [
    "# CI SONO DEI MISSING VALUE?\n",
    "\n",
    "bool_ds = df.isnull()\n",
    "nan_per_column = bool_ds.sum(axis=0)\n",
    "\n",
    "# CONTO I NAN PER OGNI COLONNA\n",
    "print(nan_per_column)\n",
    "total_nan = nan_per_column.sum()\n",
    "print(f\"In totale, ci sono {total_nan} valori NaN.\")\n",
    "\n",
    "# PRINTO LE RIGHE CON DEI NAN\n",
    "df[df.isna().any(axis=1)]"
   ]
  },
  {
   "cell_type": "code",
   "execution_count": 4,
   "metadata": {},
   "outputs": [
    {
     "name": "stdout",
     "output_type": "stream",
     "text": [
      "0    956\n",
      "1    127\n",
      "Name: classe, dtype: int64\n",
      "Queste sono le percentuali di ogni classe:\n",
      "[88.27331486611266, 11.72668513388735].\n"
     ]
    },
    {
     "data": {
      "text/plain": [
       "<BarContainer object of 2 artists>"
      ]
     },
     "execution_count": 4,
     "metadata": {},
     "output_type": "execute_result"
    },
    {
     "data": {
      "image/png": "[encoded data removed]",
      "text/plain": [
       "<Figure size 432x288 with 1 Axes>"
      ]
     },
     "metadata": {
      "needs_background": "light"
     },
     "output_type": "display_data"
    }
   ],
   "source": [
    "# IL DATASET E' BILANCIATO?\n",
    "N, m = df.shape\n",
    "\n",
    "target = df[\"classe\"]\n",
    "classes = target.value_counts()\n",
    "#così in classes ho una series con da un lato le classi, dall'altro le cardinalità\n",
    "print(classes)\n",
    "percentages = []\n",
    "labels = classes.index\n",
    "data = classes.iloc\n",
    "for el in classes:\n",
    "  percentages.append(el/N*100)\n",
    "\n",
    "print(f\"Queste sono le percentuali di ogni classe:\\n{percentages}.\")\n",
    "plt.bar(labels, data)"
   ]
  },
  {
   "cell_type": "code",
   "execution_count": 5,
   "metadata": {},
   "outputs": [],
   "source": [
    "from sklearn.model_selection import train_test_split\n",
    "from sklearn.preprocessing import StandardScaler\n",
    "from sklearn.svm import SVC\n",
    "from sklearn.metrics import accuracy_score, classification_report, confusion_matrix\n",
    "\n",
    "X = df.drop(\"classe\", axis=1)\n",
    "Y = df.loc[:, \"classe\"]\n",
    "\n",
    "scaler = StandardScaler()\n",
    "scaler.fit(X)\n",
    "X = scaler.transform(X)\n",
    "\n",
    "x_train, x_test, y_train, y_test = train_test_split(X, Y, test_size=1/3, random_state=0)\n",
    "\n",
    "clf = SVC(kernel=\"linear\", random_state=0, tol=1e-5, cache_size=1000, shrinking=False)\n",
    "clf.fit(x_train, y_train)\n",
    "\n",
    "t_preds = clf.predict(x_train)\n",
    "preds = clf.predict(x_test)"
   ]
  },
  {
   "cell_type": "code",
   "execution_count": 6,
   "metadata": {},
   "outputs": [
    {
     "name": "stdout",
     "output_type": "stream",
     "text": [
      "Accuratezza nel training: 1.0\n",
      "Accuratezza nel test: 1.0\n"
     ]
    }
   ],
   "source": [
    "print(\"Accuratezza nel training: {}\".format(accuracy_score(y_train, t_preds)))\n",
    "print(\"Accuratezza nel test: {}\".format(accuracy_score(y_test, preds)))"
   ]
  },
  {
   "cell_type": "code",
   "execution_count": 7,
   "metadata": {},
   "outputs": [
    {
     "name": "stdout",
     "output_type": "stream",
     "text": [
      "Classification Report training\n",
      "              precision    recall  f1-score   support\n",
      "\n",
      "           0       1.00      1.00      1.00       638\n",
      "           1       1.00      1.00      1.00        84\n",
      "\n",
      "    accuracy                           1.00       722\n",
      "   macro avg       1.00      1.00      1.00       722\n",
      "weighted avg       1.00      1.00      1.00       722\n",
      "\n",
      "Classification Report test\n",
      "              precision    recall  f1-score   support\n",
      "\n",
      "           0       1.00      1.00      1.00       318\n",
      "           1       1.00      1.00      1.00        43\n",
      "\n",
      "    accuracy                           1.00       361\n",
      "   macro avg       1.00      1.00      1.00       361\n",
      "weighted avg       1.00      1.00      1.00       361\n",
      "\n"
     ]
    }
   ],
   "source": [
    "print(\"Classification Report training\")\n",
    "print(classification_report(y_train, t_preds))\n",
    "\n",
    "print(\"Classification Report test\")\n",
    "print(classification_report(y_test, preds))"
   ]
  },
  {
   "cell_type": "code",
   "execution_count": 8,
   "metadata": {},
   "outputs": [
    {
     "name": "stdout",
     "output_type": "stream",
     "text": [
      "Confusion Matrix training\n",
      "[[638   0]\n",
      " [  0  84]]\n",
      "Confusion Matrix test\n",
      "[[318   0]\n",
      " [  0  43]]\n"
     ]
    }
   ],
   "source": [
    "print(\"Confusion Matrix training\")\n",
    "print(confusion_matrix(y_train, t_preds))\n",
    "\n",
    "print(\"Confusion Matrix test\")\n",
    "print(confusion_matrix(y_test, preds))"
   ]
  },
  {
   "cell_type": "code",
   "execution_count": 9,
   "metadata": {},
   "outputs": [
    {
     "name": "stdout",
     "output_type": "stream",
     "text": [
      "VETTORI DI SUPPORTO\n",
      "[[-1.19461974 -0.43250743 -0.78434092 -0.37814548]\n",
      " [ 0.30737772 -0.17266271  0.08300807 -0.22196843]\n",
      " [-1.58988223  1.50451689  0.70685537  0.45591435]]\n",
      "\n",
      "I vettori di supporto sono 3\n",
      "\n",
      "\n",
      " Dati associati ai vettori si supporto\n",
      "     umidità  temperatura   co2  tvoc  classe\n",
      "170       40         23.1   599    30       0\n",
      "329       58         23.1  1637   279       0\n",
      "657       60         23.5  1509   178       0\n"
     ]
    }
   ],
   "source": [
    "print(\"VETTORI DI SUPPORTO\")\n",
    "print(clf.support_vectors_)\n",
    "print(\"\\nI vettori di supporto sono {}\".format(len(clf.support_vectors_)))\n",
    "\n",
    "print(\"\\n\\n Dati associati ai vettori si supporto\")\n",
    "print(df.iloc[clf.support_])"
   ]
  },
  {
   "cell_type": "code",
   "execution_count": 10,
   "metadata": {},
   "outputs": [
    {
     "name": "stdout",
     "output_type": "stream",
     "text": [
      "Intercetta: [-0.77211832]\n",
      "Pesi: [[-0.33296722  0.58369327  0.35757497  0.24524014]]\n"
     ]
    }
   ],
   "source": [
    "print(\"Intercetta: {}\".format(clf.intercept_))\n",
    "print(\"Pesi: {}\".format(clf.coef_))"
   ]
  },
  {
   "cell_type": "code",
   "execution_count": 102,
   "metadata": {},
   "outputs": [
    {
     "name": "stdout",
     "output_type": "stream",
     "text": [
      "medie: [  54.11172669   25.13093259 1661.25577101 1030.92982456]\n",
      "Varianze: [1.60017988e+02 1.79208068e+01 2.22233383e+06 7.23209521e+06]\n"
     ]
    }
   ],
   "source": [
    "print(\"medie: {}\".format(scaler.mean_))\n",
    "print(\"Varianze: {}\".format(scaler.var_))"
   ]
  }
 ],
 "metadata": {
  "interpreter": {
   "hash": "24f8cca9a3ac9d515d419b2e49fa55efb7dfb1f7166b8d23f0eeff61ee365a4d"
  },
  "kernelspec": {
   "display_name": "Python 3.7.12 64-bit ('base': conda)",
   "language": "python",
   "name": "python3"
  },
  "language_info": {
   "codemirror_mode": {
    "name": "ipython",
    "version": 3
   },
   "file_extension": ".py",
   "mimetype": "text/x-python",
   "name": "python",
   "nbconvert_exporter": "python",
   "pygments_lexer": "ipython3",
   "version": "3.7.12"
  },
  "orig_nbformat": 4
 },
 "nbformat": 4,
 "nbformat_minor": 2
}
